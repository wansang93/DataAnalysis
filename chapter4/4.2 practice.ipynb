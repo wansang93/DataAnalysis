{
 "cells": [
  {
   "cell_type": "markdown",
   "metadata": {},
   "source": [
    "### 4.2 유니버설 함수"
   ]
  },
  {
   "cell_type": "markdown",
   "metadata": {},
   "source": [
    "ufunc 이라고 불림\n",
    "\n",
    "ndarray 안에 있는 데이터 원소별로 연산을 수행하는 함수\n",
    "\n",
    "유니버설 함수는 하나 이상의 스칼라 결과 값을 반환하는 간단한 함수를\n",
    "\n",
    "고속으로 수행할 수 있는 벡터화된 래퍼함수라고 생각하면 된다."
   ]
  },
  {
   "cell_type": "code",
   "execution_count": 1,
   "metadata": {},
   "outputs": [],
   "source": [
    "import numpy as np"
   ]
  },
  {
   "cell_type": "code",
   "execution_count": 2,
   "metadata": {},
   "outputs": [
    {
     "data": {
      "text/plain": [
       "array([0, 1, 2, 3, 4, 5, 6, 7, 8, 9])"
      ]
     },
     "execution_count": 2,
     "metadata": {},
     "output_type": "execute_result"
    }
   ],
   "source": [
    "arr = np.arange(10)\n",
    "arr"
   ]
  },
  {
   "cell_type": "markdown",
   "metadata": {},
   "source": [
    "단항 유니버설 함수\n",
    "\n",
    "한 배열에서 전체 원소에 적용 ex) sqrt, exp\n",
    "\n",
    "abs, fabs: 각 원소의 절댓값을 구한다. 복소수가 아닌경우 빠른 연산을 위해 fabs를 사용  \n",
    "sqrt: 원소의 제곱근을 계산한다. arr ** 0.5와 동일  \n",
    "square: 각 원소의 제곱을 계산한다. arr ** 2와 동일  \n",
    "Exp: 각 원소에서 지수 e의 x를 계산한다.  \n",
    "Log, log10, log2, log1p: 각각 자연 로그, 로그 10, 로그2, 로그(1+x)  \n",
    "sign: 각 원소의 부호를 계산한다.(1은 양수, 0은 0, -1은 음수)  \n",
    "ceil: 각 원소의 소수자리를 올린다. 각 원소의 값보다 같거나 큰 정수 중 가장 작은 정수를 반환한다.  \n",
    "floor: 각 원소의 소수자리를 내린다. 각 원소의 값보다 작거나 같은 정수 중 가장 작은 수를 반환한다.  \n",
    "rint: 각 원소의 소수자리를 반올림한다. dtype은 유지된다.  \n",
    "modf: 각 원소의 몫과 나머지를 각각의 배열로 반환한다.  \n",
    "isnan: 각각의 원소가 숫자인지 아닌지를(NaN, Not a Number) 나타내는 boolean 배열을 반환한다.  \n",
    "isfinite, isinf: 배열의 각 원소가 유한한지(non-inf, non-Nan), 무한한지 나타내는 boolean 배열을 반환한다.  \n",
    "cos, cosh, sin, shinh, tan, tanh: 일반 삼각 함수와 쌍곡삼각 함수  \n",
    "arccos, arccosh, arcsin, arcsinh, arctan, arctanh: 역삼각 함수  \n",
    "logical_not: 각 원소의 논리 부정(not) 값을 계산한다. -arr과 동일"
   ]
  },
  {
   "cell_type": "code",
   "execution_count": 3,
   "metadata": {},
   "outputs": [
    {
     "data": {
      "text/plain": [
       "array([0.        , 1.        , 1.41421356, 1.73205081, 2.        ,\n",
       "       2.23606798, 2.44948974, 2.64575131, 2.82842712, 3.        ])"
      ]
     },
     "execution_count": 3,
     "metadata": {},
     "output_type": "execute_result"
    }
   ],
   "source": [
    "np.sqrt(arr)"
   ]
  },
  {
   "cell_type": "markdown",
   "metadata": {},
   "source": [
    "이항 유니버설 함수\n",
    "\n",
    "2개의 인자를 받아서 단일 배열로 반환하는 함수 ex) add, maximum\n",
    "\n",
    "add: 두 배열에서 같은 위치의 원소끼리 더한다.  \n",
    "subtract: 첫 번째 배열의 원소에서 두 번째 배열의 원소를 뺀다.\n",
    "multiply: 배열의 원소끼리 곱한다.  \n",
    "divide, floor_divide: 첫 번째 배열의 원소에서 두 번째 배열의 원소를 나눈다. floor_divide는 몫만 취한다.  \n",
    "power: 첫 번째 배열의 원소에 두 번째 배열의 원소만큼 제곱한다.  \n",
    "maximum, fmax: 두 원소 중 큰 값을 반환한다. fmax는 NaN을 무시한다.  \n",
    "minimum, fmin: 두 원소 중 작은 값을 반환한다. fmin은 NaN을 무시한다.  \n",
    "mod: 첫 번째 배열의 원소에 두 번째 배열의 원소를 나눈 나머지를 구한다.  \n",
    "copysign: 첫 번째 배열 원소의 기호를 두 번째 배열 원소의 기호로 바꾼다.  \n",
    "greater, greater_equal, less, less_equal, equal, not_equal: 비교연산 결과를 불리언 배열로 반환한다.  \n",
    "logical_and, logical_or, logical_xor: 각각 두 원소 간의 논리연산, &, |, ^ 결과를 반환한다.  "
   ]
  },
  {
   "cell_type": "code",
   "execution_count": 4,
   "metadata": {},
   "outputs": [
    {
     "data": {
      "text/plain": [
       "array([ 2.39151785, -0.2620764 , -0.44805774,  0.40355748,  0.2874458 ,\n",
       "        0.15855104,  3.03759565,  0.93279749])"
      ]
     },
     "execution_count": 4,
     "metadata": {},
     "output_type": "execute_result"
    }
   ],
   "source": [
    "x = np.random.randn(8)\n",
    "y = np.random.randn(8)\n",
    "np.maximum(x, y)"
   ]
  },
  {
   "cell_type": "markdown",
   "metadata": {},
   "source": [
    "배열 여러개를 반환하는 함수는 흔하지 않지만 여러개를 반환하는 유니버설 함수도 있다.\n",
    "\n",
    "modf는 divmod의 벡터화 버전 modf는 분수를 받아 몫과 나머지를 함께 반환한다."
   ]
  },
  {
   "cell_type": "code",
   "execution_count": 13,
   "metadata": {},
   "outputs": [
    {
     "data": {
      "text/plain": [
       "array([-2.49835352,  2.65731791, -8.85869975,  5.83040047,  5.69033846,\n",
       "       -6.42826312, -7.93696826])"
      ]
     },
     "execution_count": 13,
     "metadata": {},
     "output_type": "execute_result"
    }
   ],
   "source": [
    "arr = np.random.randn(7) * 5\n",
    "arr"
   ]
  },
  {
   "cell_type": "code",
   "execution_count": 14,
   "metadata": {},
   "outputs": [
    {
     "data": {
      "text/plain": [
       "(array([-0.49835352,  0.65731791, -0.85869975,  0.83040047,  0.69033846,\n",
       "        -0.42826312, -0.93696826]), array([-2.,  2., -8.,  5.,  5., -6., -7.]))"
      ]
     },
     "execution_count": 14,
     "metadata": {},
     "output_type": "execute_result"
    }
   ],
   "source": [
    "np.modf(arr)"
   ]
  }
 ],
 "metadata": {
  "kernelspec": {
   "display_name": "Python 3",
   "language": "python",
   "name": "python3"
  },
  "language_info": {
   "codemirror_mode": {
    "name": "ipython",
    "version": 3
   },
   "file_extension": ".py",
   "mimetype": "text/x-python",
   "name": "python",
   "nbconvert_exporter": "python",
   "pygments_lexer": "ipython3",
   "version": "3.7.4"
  }
 },
 "nbformat": 4,
 "nbformat_minor": 2
}
