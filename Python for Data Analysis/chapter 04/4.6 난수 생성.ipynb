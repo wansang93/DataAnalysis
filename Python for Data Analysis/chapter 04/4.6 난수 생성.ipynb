{
 "cells": [
  {
   "cell_type": "markdown",
   "metadata": {},
   "source": [
    "### 4.6 난수 생성"
   ]
  },
  {
   "cell_type": "markdown",
   "metadata": {},
   "source": [
    "numpy.random 모듈에 대해서 알아보자  \n",
    "\n",
    "random 함수를 보강하여 다양한 종류의 확률분포로부터 효과적으로 표본 값을 생성 할 수 있다.\n"
   ]
  },
  {
   "cell_type": "code",
   "execution_count": 3,
   "metadata": {},
   "outputs": [],
   "source": [
    "import numpy as np"
   ]
  },
  {
   "cell_type": "code",
   "execution_count": 5,
   "metadata": {},
   "outputs": [
    {
     "data": {
      "text/plain": [
       "array([[-0.16455929, -0.63241571,  0.48170843, -0.42286676],\n",
       "       [-1.26012381, -2.5928097 , -0.2033676 , -0.32668668],\n",
       "       [ 1.19748237, -1.84324865, -0.91158991,  0.70986302],\n",
       "       [ 0.32779748, -2.51349348,  1.88420566, -0.13907902]])"
      ]
     },
     "execution_count": 5,
     "metadata": {},
     "output_type": "execute_result"
    }
   ],
   "source": [
    "samples = np.random.normal(size=(4, 4))\n",
    "samples"
   ]
  },
  {
   "cell_type": "markdown",
   "metadata": {},
   "source": [
    "파이썬 내장 random 모듈은 한 번에 하나의 값만 생성할 수 있다.\n",
    "\n",
    "따라서 numpy.random 을 사용하면 내장 모듈보다 수십배 이상 빠르다."
   ]
  },
  {
   "cell_type": "code",
   "execution_count": 7,
   "metadata": {},
   "outputs": [],
   "source": [
    "from random import normalvariate\n",
    "N = 1_000_000"
   ]
  },
  {
   "cell_type": "code",
   "execution_count": 13,
   "metadata": {},
   "outputs": [],
   "source": [
    "# 느림\n",
    "samples = [normalvariate(0, 1) for _ in range(N)]"
   ]
  },
  {
   "cell_type": "code",
   "execution_count": 14,
   "metadata": {},
   "outputs": [
    {
     "data": {
      "text/plain": [
       "array([-1.22849635, -0.3045659 , -0.26828433, ...,  1.30243755,\n",
       "        1.10161913, -1.37173669])"
      ]
     },
     "execution_count": 14,
     "metadata": {},
     "output_type": "execute_result"
    }
   ],
   "source": [
    "# 빠름\n",
    "np.random.normal(size=N)"
   ]
  },
  {
   "cell_type": "markdown",
   "metadata": {},
   "source": [
    "numpy.random 함수\n",
    "\n",
    "- seed: 난수 발생기의 시드를 지정\n",
    "- permutation: 순서를 임의로 바꾸거나 임의의 순열을 반환\n",
    "- shuffle:  리스트나 배열의 순서를 뒤썩음\n",
    "- rand: 균등분포에서 표본을 추출\n",
    "- randint: 주어진 최소/최대 범위 안에서 임의의 난수를 추출\n",
    "- randn: 표준편차가 1이고 평균 값이 0인 정규분포에서 표본을 추출\n",
    "- binomial: 이항분포에서 표본을 추출\n",
    "- normal: 정규분포에서 표본을 추출\n",
    "- beta: 베타분포에서 표본을 추출\n",
    "- chisquare: 카이제곱분포에서 표본을 추출\n",
    "- gamma: 감마분포에서 표본을 추출\n",
    "- uniform: 균등(0, 1)분포에서 표본을 추출"
   ]
  }
 ],
 "metadata": {
  "kernelspec": {
   "display_name": "Python 3",
   "language": "python",
   "name": "python3"
  },
  "language_info": {
   "codemirror_mode": {
    "name": "ipython",
    "version": 3
   },
   "file_extension": ".py",
   "mimetype": "text/x-python",
   "name": "python",
   "nbconvert_exporter": "python",
   "pygments_lexer": "ipython3",
   "version": "3.7.4"
  }
 },
 "nbformat": 4,
 "nbformat_minor": 2
}
