{
 "cells": [
  {
   "cell_type": "markdown",
   "metadata": {},
   "source": [
    "### 4.5 선형대수"
   ]
  },
  {
   "cell_type": "markdown",
   "metadata": {},
   "source": [
    "배열을 잘 다루려면 선형대수는 중요하다.\n",
    "\n",
    "행렬의 곱에 대해서 알아보자"
   ]
  },
  {
   "cell_type": "code",
   "execution_count": 3,
   "metadata": {},
   "outputs": [],
   "source": [
    "import numpy as np"
   ]
  },
  {
   "cell_type": "code",
   "execution_count": 23,
   "metadata": {},
   "outputs": [
    {
     "name": "stdout",
     "output_type": "stream",
     "text": [
      "[[1. 2. 3.]\n",
      " [4. 5. 6.]]\n",
      "[[ 6. 23.]\n",
      " [-1.  7.]\n",
      " [ 8.  9.]]\n"
     ]
    }
   ],
   "source": [
    "x = np.array([[1., 2., 3.], [4., 5., 6.]])\n",
    "y = np.array([[6., 23.], [-1, 7], [8, 9]])\n",
    "print(x)\n",
    "print(y)"
   ]
  },
  {
   "cell_type": "markdown",
   "metadata": {},
   "source": [
    "x * y 를 해보자 에러가 난다. 행렬곱을 하고싶으면 dot 함수를 쓴다.  \n",
    "x.dot(y)"
   ]
  },
  {
   "cell_type": "code",
   "execution_count": 27,
   "metadata": {},
   "outputs": [],
   "source": [
    "# x * y\n",
    "# 3by2 와 2by3을 곱할 수 없다. 행렬곱이 지원이 되지않는다.\n",
    "# operands could not be broadcast together with shapes (2,3) (3,2)"
   ]
  },
  {
   "cell_type": "code",
   "execution_count": 28,
   "metadata": {},
   "outputs": [
    {
     "data": {
      "text/plain": [
       "array([[ 28.,  64.],\n",
       "       [ 67., 181.]])"
      ]
     },
     "execution_count": 28,
     "metadata": {},
     "output_type": "execute_result"
    }
   ],
   "source": [
    "x.dot(y)"
   ]
  },
  {
   "cell_type": "markdown",
   "metadata": {},
   "source": [
    "2차원 배열과 곱셈이 가능한 크기의 1차원 배열 간 행렬 곱셈의 결과는 1차원이다."
   ]
  },
  {
   "cell_type": "code",
   "execution_count": 29,
   "metadata": {},
   "outputs": [
    {
     "data": {
      "text/plain": [
       "array([ 6., 15.])"
      ]
     },
     "execution_count": 29,
     "metadata": {},
     "output_type": "execute_result"
    }
   ],
   "source": [
    "np.dot(x, np.ones(3))"
   ]
  },
  {
   "cell_type": "markdown",
   "metadata": {},
   "source": [
    "numpy.linalg는 행렬의 분할과 역행렬, 행렬식 같은 것을 포함한다.  \n",
    "MATLAB, R같은 언어에서 사용하는 표준 포트란 라이브러리인 BLAS, LAPACK, Intel MKL을 사용해서 구현되었다.  "
   ]
  },
  {
   "cell_type": "code",
   "execution_count": 32,
   "metadata": {},
   "outputs": [
    {
     "data": {
      "text/plain": [
       "array([[ 0.26203289,  1.88249428, -0.66642381, -0.81586954, -0.95984161],\n",
       "       [-0.23888869, -1.81940367, -1.48506606, -0.35628267,  1.38584206],\n",
       "       [-2.38620275,  0.33147114, -0.44450934,  0.53371307,  0.09717905],\n",
       "       [ 1.00126898,  1.79401223,  0.58151203, -1.09183891,  0.23346473],\n",
       "       [ 0.52549106,  0.77684302, -1.53271951, -0.11389564, -0.86398869]])"
      ]
     },
     "execution_count": 32,
     "metadata": {},
     "output_type": "execute_result"
    }
   ],
   "source": [
    "from numpy.linalg import inv, qr\n",
    "X = np.random.randn(5, 5)\n",
    "X"
   ]
  },
  {
   "cell_type": "code",
   "execution_count": 34,
   "metadata": {},
   "outputs": [
    {
     "data": {
      "text/plain": [
       "array([[ 7.09837302e+00,  2.34146590e+00,  1.01764949e+00,\n",
       "        -2.55529593e+00, -1.03471831e+00],\n",
       "       [ 2.34146590e+00,  1.07858525e+01,  1.15261085e+00,\n",
       "        -2.75798866e+00, -4.54843542e+00],\n",
       "       [ 1.01764949e+00,  1.15261085e+00,  5.53451580e+00,\n",
       "         3.75230358e-01, -1.58783663e-03],\n",
       "       [-2.55529593e+00, -2.75798866e+00,  3.75230358e-01,\n",
       "         2.28251451e+00,  1.84718414e-01],\n",
       "       [-1.03471831e+00, -4.54843542e+00, -1.58783663e-03,\n",
       "         1.84718414e-01,  3.65228014e+00]])"
      ]
     },
     "execution_count": 34,
     "metadata": {},
     "output_type": "execute_result"
    }
   ],
   "source": [
    "mat = X.T.dot(X)  # 전치행렬\n",
    "mat"
   ]
  },
  {
   "cell_type": "code",
   "execution_count": 36,
   "metadata": {},
   "outputs": [
    {
     "data": {
      "text/plain": [
       "array([[ 0.8242886 ,  0.94816896, -0.48712951,  2.04248037,  1.31083444],\n",
       "       [ 0.94816896,  1.62806192, -0.71431475,  2.9724873 ,  2.14551312],\n",
       "       [-0.48712951, -0.71431475,  0.51472641, -1.41573045, -0.95576665],\n",
       "       [ 2.04248037,  2.9724873 , -1.41573045,  6.22824844,  3.96487611],\n",
       "       [ 1.31083444,  2.14551312, -0.95576665,  3.96487611,  3.11618184]])"
      ]
     },
     "execution_count": 36,
     "metadata": {},
     "output_type": "execute_result"
    }
   ],
   "source": [
    "inv(mat)  # 정사각 행렬의 역행렬"
   ]
  },
  {
   "cell_type": "code",
   "execution_count": 37,
   "metadata": {},
   "outputs": [
    {
     "data": {
      "text/plain": [
       "array([[ 1.00000000e+00, -1.21961943e-16,  2.06546096e-16,\n",
       "         2.00860947e-15,  4.35787423e-16],\n",
       "       [ 2.14147763e-15,  1.00000000e+00, -1.96780178e-15,\n",
       "         3.02237239e-15,  3.47372086e-15],\n",
       "       [ 4.33149734e-16,  1.40369654e-16,  1.00000000e+00,\n",
       "         8.00835909e-17,  9.39640349e-17],\n",
       "       [-1.22976964e-15,  6.39518965e-16,  1.49607217e-16,\n",
       "         1.00000000e+00,  1.94846690e-16],\n",
       "       [-7.22475756e-16,  1.19130586e-15,  5.59803377e-16,\n",
       "        -1.16964487e-15,  1.00000000e+00]])"
      ]
     },
     "execution_count": 37,
     "metadata": {},
     "output_type": "execute_result"
    }
   ],
   "source": [
    "mat.dot(inv(mat))"
   ]
  },
  {
   "cell_type": "code",
   "execution_count": 38,
   "metadata": {},
   "outputs": [
    {
     "data": {
      "text/plain": [
       "array([[ -8.03150993,  -6.82338503,  -1.81752502,   3.7649158 ,\n",
       "          2.77003084],\n",
       "       [  0.        , -10.24118018,  -0.75816392,   1.63494451,\n",
       "          4.85334357],\n",
       "       [  0.        ,   0.        ,  -5.40902745,  -0.96801045,\n",
       "         -0.45727233],\n",
       "       [  0.        ,   0.        ,   0.        ,  -1.31763088,\n",
       "          1.91427654],\n",
       "       [  0.        ,   0.        ,   0.        ,   0.        ,\n",
       "          0.17496578]])"
      ]
     },
     "execution_count": 38,
     "metadata": {},
     "output_type": "execute_result"
    }
   ],
   "source": [
    "q, r = qr(mat)\n",
    "r"
   ]
  },
  {
   "cell_type": "markdown",
   "metadata": {},
   "source": [
    "자주 사용되는 numpy.linalg 함수\n",
    "\n",
    "- numpy.diag: 정사각 행렬의 대각/비대각 원소를 1차원 배열로 반환하거나 1차원 배열을 대각선 원소로 하고, 나머지는 0으로 채운 단위 행렬을 반환한다.\n",
    "- numpy.dot: 행렬 곱셈\n",
    "- numpy.trace: 행렬의 대각선 원소의 합을 계산\n",
    "- numpy.linalg.det: 행렬식을 계산\n",
    "- numpy.linalg.eig: 정사각 행렬의 고유 값과 고유벡터를 계산\n",
    "- numpy.linalg.inv: 정사각 행렬의 역행렬을 계산\n",
    "- numpy.linalg.pinv: 행렬의 무어-펜로즈 유사역원 역행렬을 구함\n",
    "- numpy.linalg.qr: QR 분해를 계산\n",
    "- numpy.linalg.svd: 특이값 분해(SVD)를 계산\n",
    "- numpy.linalg.solve: A가 정사각 행렬일 때, Ax = b 를 만족하는 x를 구함\n",
    "- numpy.linalg.lstsq: y=xb를 만족하는 최소제곱해를 구함"
   ]
  }
 ],
 "metadata": {
  "kernelspec": {
   "display_name": "Python 3",
   "language": "python",
   "name": "python3"
  },
  "language_info": {
   "codemirror_mode": {
    "name": "ipython",
    "version": 3
   },
   "file_extension": ".py",
   "mimetype": "text/x-python",
   "name": "python",
   "nbconvert_exporter": "python",
   "pygments_lexer": "ipython3",
   "version": "3.7.4"
  }
 },
 "nbformat": 4,
 "nbformat_minor": 2
}
