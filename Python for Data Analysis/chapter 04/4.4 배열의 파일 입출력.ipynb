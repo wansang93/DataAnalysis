{
 "cells": [
  {
   "cell_type": "markdown",
   "metadata": {},
   "source": [
    "### 4.4 배열의 파일 입출력"
   ]
  },
  {
   "cell_type": "markdown",
   "metadata": {},
   "source": [
    "#### 4.4.1 배열을 바이너리 형식으로 디스크에 저장하기\n",
    "\n",
    "np.save와 np.load를 사용해보자"
   ]
  },
  {
   "cell_type": "code",
   "execution_count": 1,
   "metadata": {},
   "outputs": [],
   "source": [
    "import numpy as np"
   ]
  },
  {
   "cell_type": "code",
   "execution_count": 2,
   "metadata": {},
   "outputs": [
    {
     "data": {
      "text/plain": [
       "array([0, 1, 2, 3, 4, 5, 6, 7, 8, 9])"
      ]
     },
     "execution_count": 2,
     "metadata": {},
     "output_type": "execute_result"
    }
   ],
   "source": [
    "arr = np.arange(10)\n",
    "arr"
   ]
  },
  {
   "cell_type": "code",
   "execution_count": 6,
   "metadata": {},
   "outputs": [],
   "source": [
    "np.save('./data/some_array', arr)  # 확장자는 .npy로 저장된다."
   ]
  },
  {
   "cell_type": "code",
   "execution_count": 8,
   "metadata": {},
   "outputs": [
    {
     "data": {
      "text/plain": [
       "array([0, 1, 2, 3, 4, 5, 6, 7, 8, 9])"
      ]
     },
     "execution_count": 8,
     "metadata": {},
     "output_type": "execute_result"
    }
   ],
   "source": [
    "np.load('./data/some_array.npy')"
   ]
  },
  {
   "cell_type": "code",
   "execution_count": 10,
   "metadata": {},
   "outputs": [],
   "source": [
    "np.savez('./data/array_archive.npz', a=arr, b=arr)  # 압축하여 저장하는 방법"
   ]
  },
  {
   "cell_type": "code",
   "execution_count": 12,
   "metadata": {},
   "outputs": [
    {
     "data": {
      "text/plain": [
       "<numpy.lib.npyio.NpzFile at 0x22f8b1bb208>"
      ]
     },
     "execution_count": 12,
     "metadata": {},
     "output_type": "execute_result"
    }
   ],
   "source": [
    "arch = np.load('./data/array_archive.npz')\n",
    "arch"
   ]
  },
  {
   "cell_type": "code",
   "execution_count": 13,
   "metadata": {},
   "outputs": [
    {
     "name": "stdout",
     "output_type": "stream",
     "text": [
      "[0 1 2 3 4 5 6 7 8 9]\n",
      "[0 1 2 3 4 5 6 7 8 9]\n"
     ]
    }
   ],
   "source": [
    "print(arch['a'])\n",
    "print(arch['b'])"
   ]
  },
  {
   "cell_type": "markdown",
   "metadata": {},
   "source": [
    "#### 텍스트 파일 불러오기와 저장하기\n",
    "\n",
    "보통은 판다스로 불러오지만  \n",
    "np.loadtxt나 np.getfromtxt를 이용해 NumPy 배열로 직접 데이터를 불러오는 게 유용할 때도 있다."
   ]
  },
  {
   "cell_type": "code",
   "execution_count": 37,
   "metadata": {},
   "outputs": [
    {
     "data": {
      "text/html": [
       "<div>\n",
       "<style scoped>\n",
       "    .dataframe tbody tr th:only-of-type {\n",
       "        vertical-align: middle;\n",
       "    }\n",
       "\n",
       "    .dataframe tbody tr th {\n",
       "        vertical-align: top;\n",
       "    }\n",
       "\n",
       "    .dataframe thead th {\n",
       "        text-align: right;\n",
       "    }\n",
       "</style>\n",
       "<table border=\"1\" class=\"dataframe\">\n",
       "  <thead>\n",
       "    <tr style=\"text-align: right;\">\n",
       "      <th></th>\n",
       "      <th>0</th>\n",
       "      <th>1</th>\n",
       "      <th>2</th>\n",
       "      <th>3</th>\n",
       "    </tr>\n",
       "  </thead>\n",
       "  <tbody>\n",
       "    <tr>\n",
       "      <td>0</td>\n",
       "      <td>0.275103</td>\n",
       "      <td>-1.183067</td>\n",
       "      <td>-0.278992</td>\n",
       "      <td>-0.933298</td>\n",
       "    </tr>\n",
       "    <tr>\n",
       "      <td>1</td>\n",
       "      <td>-0.438085</td>\n",
       "      <td>-0.881695</td>\n",
       "      <td>0.698922</td>\n",
       "      <td>0.681943</td>\n",
       "    </tr>\n",
       "    <tr>\n",
       "      <td>2</td>\n",
       "      <td>0.916456</td>\n",
       "      <td>-0.522822</td>\n",
       "      <td>0.178933</td>\n",
       "      <td>-0.187381</td>\n",
       "    </tr>\n",
       "    <tr>\n",
       "      <td>3</td>\n",
       "      <td>-1.241121</td>\n",
       "      <td>0.054615</td>\n",
       "      <td>-1.199155</td>\n",
       "      <td>0.013361</td>\n",
       "    </tr>\n",
       "    <tr>\n",
       "      <td>4</td>\n",
       "      <td>1.153276</td>\n",
       "      <td>0.227325</td>\n",
       "      <td>-2.055139</td>\n",
       "      <td>-0.597644</td>\n",
       "    </tr>\n",
       "    <tr>\n",
       "      <td>5</td>\n",
       "      <td>0.631758</td>\n",
       "      <td>1.980567</td>\n",
       "      <td>0.019772</td>\n",
       "      <td>-0.727807</td>\n",
       "    </tr>\n",
       "  </tbody>\n",
       "</table>\n",
       "</div>"
      ],
      "text/plain": [
       "          0         1         2         3\n",
       "0  0.275103 -1.183067 -0.278992 -0.933298\n",
       "1 -0.438085 -0.881695  0.698922  0.681943\n",
       "2  0.916456 -0.522822  0.178933 -0.187381\n",
       "3 -1.241121  0.054615 -1.199155  0.013361\n",
       "4  1.153276  0.227325 -2.055139 -0.597644\n",
       "5  0.631758  1.980567  0.019772 -0.727807"
      ]
     },
     "execution_count": 37,
     "metadata": {},
     "output_type": "execute_result"
    }
   ],
   "source": [
    "# 텍스트 파일 만들기\n",
    "np.set_printoptions(precision=8)\n",
    "arr = np.random.randn(6, 4)\n",
    "import pandas as pd\n",
    "dataframe = pd.DataFrame(arr)\n",
    "dataframe.to_csv('./data/array_ex.txt', header=False, index=False)"
   ]
  },
  {
   "cell_type": "code",
   "execution_count": 39,
   "metadata": {},
   "outputs": [
    {
     "data": {
      "text/plain": [
       "array([[ 0.27510327, -1.18306683, -0.27899218, -0.93329777],\n",
       "       [-0.43808478, -0.88169467,  0.69892204,  0.68194326],\n",
       "       [ 0.91645551, -0.52282211,  0.17893322, -0.18738073],\n",
       "       [-1.24112078,  0.05461505, -1.19915516,  0.01336072],\n",
       "       [ 1.15327575,  0.22732482, -2.05513863, -0.59764446],\n",
       "       [ 0.63175775,  1.98056712,  0.01977166, -0.72780726]])"
      ]
     },
     "execution_count": 39,
     "metadata": {},
     "output_type": "execute_result"
    }
   ],
   "source": [
    "load_arr = np.loadtxt('./data/array_ex.txt', delimiter=',')\n",
    "load_arr"
   ]
  }
 ],
 "metadata": {
  "kernelspec": {
   "display_name": "Python 3",
   "language": "python",
   "name": "python3"
  },
  "language_info": {
   "codemirror_mode": {
    "name": "ipython",
    "version": 3
   },
   "file_extension": ".py",
   "mimetype": "text/x-python",
   "name": "python",
   "nbconvert_exporter": "python",
   "pygments_lexer": "ipython3",
   "version": "3.7.4"
  }
 },
 "nbformat": 4,
 "nbformat_minor": 2
}
